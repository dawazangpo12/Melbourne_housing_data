{
 "cells": [
  {
   "cell_type": "code",
   "execution_count": 80,
   "id": "bc672e4d-89b1-4f18-90aa-fadd3fd05c8b",
   "metadata": {},
   "outputs": [],
   "source": [
    "import pandas as pd"
   ]
  },
  {
   "cell_type": "code",
   "execution_count": 81,
   "id": "02ecf8eb-df8d-4082-a281-d5bd523b11f0",
   "metadata": {},
   "outputs": [],
   "source": [
    "df=pd.read_csv(\"Melbourne_housing_FULL (1).csv\")"
   ]
  },
  {
   "cell_type": "code",
   "execution_count": 82,
   "id": "3bd8b8ec-f5bd-4cc6-a6d4-fc22325105f1",
   "metadata": {},
   "outputs": [
    {
     "data": {
      "text/html": [
       "<div>\n",
       "<style scoped>\n",
       "    .dataframe tbody tr th:only-of-type {\n",
       "        vertical-align: middle;\n",
       "    }\n",
       "\n",
       "    .dataframe tbody tr th {\n",
       "        vertical-align: top;\n",
       "    }\n",
       "\n",
       "    .dataframe thead th {\n",
       "        text-align: right;\n",
       "    }\n",
       "</style>\n",
       "<table border=\"1\" class=\"dataframe\">\n",
       "  <thead>\n",
       "    <tr style=\"text-align: right;\">\n",
       "      <th></th>\n",
       "      <th>Suburb</th>\n",
       "      <th>Address</th>\n",
       "      <th>Rooms</th>\n",
       "      <th>Type</th>\n",
       "      <th>Price</th>\n",
       "      <th>Method</th>\n",
       "      <th>SellerG</th>\n",
       "      <th>Date</th>\n",
       "      <th>Distance</th>\n",
       "      <th>Postcode</th>\n",
       "      <th>...</th>\n",
       "      <th>Bathroom</th>\n",
       "      <th>Car</th>\n",
       "      <th>Landsize</th>\n",
       "      <th>BuildingArea</th>\n",
       "      <th>YearBuilt</th>\n",
       "      <th>CouncilArea</th>\n",
       "      <th>Lattitude</th>\n",
       "      <th>Longtitude</th>\n",
       "      <th>Regionname</th>\n",
       "      <th>Propertycount</th>\n",
       "    </tr>\n",
       "  </thead>\n",
       "  <tbody>\n",
       "    <tr>\n",
       "      <th>0</th>\n",
       "      <td>Abbotsford</td>\n",
       "      <td>68 Studley St</td>\n",
       "      <td>2</td>\n",
       "      <td>h</td>\n",
       "      <td>NaN</td>\n",
       "      <td>SS</td>\n",
       "      <td>Jellis</td>\n",
       "      <td>3/09/2016</td>\n",
       "      <td>2.5</td>\n",
       "      <td>3067.0</td>\n",
       "      <td>...</td>\n",
       "      <td>1.0</td>\n",
       "      <td>1.0</td>\n",
       "      <td>126.0</td>\n",
       "      <td>NaN</td>\n",
       "      <td>NaN</td>\n",
       "      <td>Yarra City Council</td>\n",
       "      <td>-37.80140</td>\n",
       "      <td>144.99580</td>\n",
       "      <td>Northern Metropolitan</td>\n",
       "      <td>4019.0</td>\n",
       "    </tr>\n",
       "    <tr>\n",
       "      <th>1</th>\n",
       "      <td>Abbotsford</td>\n",
       "      <td>85 Turner St</td>\n",
       "      <td>2</td>\n",
       "      <td>h</td>\n",
       "      <td>1480000.0</td>\n",
       "      <td>S</td>\n",
       "      <td>Biggin</td>\n",
       "      <td>3/12/2016</td>\n",
       "      <td>2.5</td>\n",
       "      <td>3067.0</td>\n",
       "      <td>...</td>\n",
       "      <td>1.0</td>\n",
       "      <td>1.0</td>\n",
       "      <td>202.0</td>\n",
       "      <td>NaN</td>\n",
       "      <td>NaN</td>\n",
       "      <td>Yarra City Council</td>\n",
       "      <td>-37.79960</td>\n",
       "      <td>144.99840</td>\n",
       "      <td>Northern Metropolitan</td>\n",
       "      <td>4019.0</td>\n",
       "    </tr>\n",
       "    <tr>\n",
       "      <th>2</th>\n",
       "      <td>Abbotsford</td>\n",
       "      <td>25 Bloomburg St</td>\n",
       "      <td>2</td>\n",
       "      <td>h</td>\n",
       "      <td>1035000.0</td>\n",
       "      <td>S</td>\n",
       "      <td>Biggin</td>\n",
       "      <td>4/02/2016</td>\n",
       "      <td>2.5</td>\n",
       "      <td>3067.0</td>\n",
       "      <td>...</td>\n",
       "      <td>1.0</td>\n",
       "      <td>0.0</td>\n",
       "      <td>156.0</td>\n",
       "      <td>79.0</td>\n",
       "      <td>1900.0</td>\n",
       "      <td>Yarra City Council</td>\n",
       "      <td>-37.80790</td>\n",
       "      <td>144.99340</td>\n",
       "      <td>Northern Metropolitan</td>\n",
       "      <td>4019.0</td>\n",
       "    </tr>\n",
       "    <tr>\n",
       "      <th>3</th>\n",
       "      <td>Abbotsford</td>\n",
       "      <td>18/659 Victoria St</td>\n",
       "      <td>3</td>\n",
       "      <td>u</td>\n",
       "      <td>NaN</td>\n",
       "      <td>VB</td>\n",
       "      <td>Rounds</td>\n",
       "      <td>4/02/2016</td>\n",
       "      <td>2.5</td>\n",
       "      <td>3067.0</td>\n",
       "      <td>...</td>\n",
       "      <td>2.0</td>\n",
       "      <td>1.0</td>\n",
       "      <td>0.0</td>\n",
       "      <td>NaN</td>\n",
       "      <td>NaN</td>\n",
       "      <td>Yarra City Council</td>\n",
       "      <td>-37.81140</td>\n",
       "      <td>145.01160</td>\n",
       "      <td>Northern Metropolitan</td>\n",
       "      <td>4019.0</td>\n",
       "    </tr>\n",
       "    <tr>\n",
       "      <th>4</th>\n",
       "      <td>Abbotsford</td>\n",
       "      <td>5 Charles St</td>\n",
       "      <td>3</td>\n",
       "      <td>h</td>\n",
       "      <td>1465000.0</td>\n",
       "      <td>SP</td>\n",
       "      <td>Biggin</td>\n",
       "      <td>4/03/2017</td>\n",
       "      <td>2.5</td>\n",
       "      <td>3067.0</td>\n",
       "      <td>...</td>\n",
       "      <td>2.0</td>\n",
       "      <td>0.0</td>\n",
       "      <td>134.0</td>\n",
       "      <td>150.0</td>\n",
       "      <td>1900.0</td>\n",
       "      <td>Yarra City Council</td>\n",
       "      <td>-37.80930</td>\n",
       "      <td>144.99440</td>\n",
       "      <td>Northern Metropolitan</td>\n",
       "      <td>4019.0</td>\n",
       "    </tr>\n",
       "    <tr>\n",
       "      <th>...</th>\n",
       "      <td>...</td>\n",
       "      <td>...</td>\n",
       "      <td>...</td>\n",
       "      <td>...</td>\n",
       "      <td>...</td>\n",
       "      <td>...</td>\n",
       "      <td>...</td>\n",
       "      <td>...</td>\n",
       "      <td>...</td>\n",
       "      <td>...</td>\n",
       "      <td>...</td>\n",
       "      <td>...</td>\n",
       "      <td>...</td>\n",
       "      <td>...</td>\n",
       "      <td>...</td>\n",
       "      <td>...</td>\n",
       "      <td>...</td>\n",
       "      <td>...</td>\n",
       "      <td>...</td>\n",
       "      <td>...</td>\n",
       "      <td>...</td>\n",
       "    </tr>\n",
       "    <tr>\n",
       "      <th>34852</th>\n",
       "      <td>Yarraville</td>\n",
       "      <td>13 Burns St</td>\n",
       "      <td>4</td>\n",
       "      <td>h</td>\n",
       "      <td>1480000.0</td>\n",
       "      <td>PI</td>\n",
       "      <td>Jas</td>\n",
       "      <td>24/02/2018</td>\n",
       "      <td>6.3</td>\n",
       "      <td>3013.0</td>\n",
       "      <td>...</td>\n",
       "      <td>1.0</td>\n",
       "      <td>3.0</td>\n",
       "      <td>593.0</td>\n",
       "      <td>NaN</td>\n",
       "      <td>NaN</td>\n",
       "      <td>Maribyrnong City Council</td>\n",
       "      <td>-37.81053</td>\n",
       "      <td>144.88467</td>\n",
       "      <td>Western Metropolitan</td>\n",
       "      <td>6543.0</td>\n",
       "    </tr>\n",
       "    <tr>\n",
       "      <th>34853</th>\n",
       "      <td>Yarraville</td>\n",
       "      <td>29A Murray St</td>\n",
       "      <td>2</td>\n",
       "      <td>h</td>\n",
       "      <td>888000.0</td>\n",
       "      <td>SP</td>\n",
       "      <td>Sweeney</td>\n",
       "      <td>24/02/2018</td>\n",
       "      <td>6.3</td>\n",
       "      <td>3013.0</td>\n",
       "      <td>...</td>\n",
       "      <td>2.0</td>\n",
       "      <td>1.0</td>\n",
       "      <td>98.0</td>\n",
       "      <td>104.0</td>\n",
       "      <td>2018.0</td>\n",
       "      <td>Maribyrnong City Council</td>\n",
       "      <td>-37.81551</td>\n",
       "      <td>144.88826</td>\n",
       "      <td>Western Metropolitan</td>\n",
       "      <td>6543.0</td>\n",
       "    </tr>\n",
       "    <tr>\n",
       "      <th>34854</th>\n",
       "      <td>Yarraville</td>\n",
       "      <td>147A Severn St</td>\n",
       "      <td>2</td>\n",
       "      <td>t</td>\n",
       "      <td>705000.0</td>\n",
       "      <td>S</td>\n",
       "      <td>Jas</td>\n",
       "      <td>24/02/2018</td>\n",
       "      <td>6.3</td>\n",
       "      <td>3013.0</td>\n",
       "      <td>...</td>\n",
       "      <td>1.0</td>\n",
       "      <td>2.0</td>\n",
       "      <td>220.0</td>\n",
       "      <td>120.0</td>\n",
       "      <td>2000.0</td>\n",
       "      <td>Maribyrnong City Council</td>\n",
       "      <td>-37.82286</td>\n",
       "      <td>144.87856</td>\n",
       "      <td>Western Metropolitan</td>\n",
       "      <td>6543.0</td>\n",
       "    </tr>\n",
       "    <tr>\n",
       "      <th>34855</th>\n",
       "      <td>Yarraville</td>\n",
       "      <td>12/37 Stephen St</td>\n",
       "      <td>3</td>\n",
       "      <td>h</td>\n",
       "      <td>1140000.0</td>\n",
       "      <td>SP</td>\n",
       "      <td>hockingstuart</td>\n",
       "      <td>24/02/2018</td>\n",
       "      <td>6.3</td>\n",
       "      <td>3013.0</td>\n",
       "      <td>...</td>\n",
       "      <td>NaN</td>\n",
       "      <td>NaN</td>\n",
       "      <td>NaN</td>\n",
       "      <td>NaN</td>\n",
       "      <td>NaN</td>\n",
       "      <td>Maribyrnong City Council</td>\n",
       "      <td>NaN</td>\n",
       "      <td>NaN</td>\n",
       "      <td>Western Metropolitan</td>\n",
       "      <td>6543.0</td>\n",
       "    </tr>\n",
       "    <tr>\n",
       "      <th>34856</th>\n",
       "      <td>Yarraville</td>\n",
       "      <td>3 Tarrengower St</td>\n",
       "      <td>2</td>\n",
       "      <td>h</td>\n",
       "      <td>1020000.0</td>\n",
       "      <td>PI</td>\n",
       "      <td>RW</td>\n",
       "      <td>24/02/2018</td>\n",
       "      <td>6.3</td>\n",
       "      <td>3013.0</td>\n",
       "      <td>...</td>\n",
       "      <td>1.0</td>\n",
       "      <td>0.0</td>\n",
       "      <td>250.0</td>\n",
       "      <td>103.0</td>\n",
       "      <td>1930.0</td>\n",
       "      <td>Maribyrnong City Council</td>\n",
       "      <td>-37.81810</td>\n",
       "      <td>144.89351</td>\n",
       "      <td>Western Metropolitan</td>\n",
       "      <td>6543.0</td>\n",
       "    </tr>\n",
       "  </tbody>\n",
       "</table>\n",
       "<p>34857 rows × 21 columns</p>\n",
       "</div>"
      ],
      "text/plain": [
       "           Suburb             Address  Rooms Type      Price Method  \\\n",
       "0      Abbotsford       68 Studley St      2    h        NaN     SS   \n",
       "1      Abbotsford        85 Turner St      2    h  1480000.0      S   \n",
       "2      Abbotsford     25 Bloomburg St      2    h  1035000.0      S   \n",
       "3      Abbotsford  18/659 Victoria St      3    u        NaN     VB   \n",
       "4      Abbotsford        5 Charles St      3    h  1465000.0     SP   \n",
       "...           ...                 ...    ...  ...        ...    ...   \n",
       "34852  Yarraville         13 Burns St      4    h  1480000.0     PI   \n",
       "34853  Yarraville       29A Murray St      2    h   888000.0     SP   \n",
       "34854  Yarraville      147A Severn St      2    t   705000.0      S   \n",
       "34855  Yarraville    12/37 Stephen St      3    h  1140000.0     SP   \n",
       "34856  Yarraville    3 Tarrengower St      2    h  1020000.0     PI   \n",
       "\n",
       "             SellerG        Date  Distance  Postcode  ...  Bathroom  Car  \\\n",
       "0             Jellis   3/09/2016       2.5    3067.0  ...       1.0  1.0   \n",
       "1             Biggin   3/12/2016       2.5    3067.0  ...       1.0  1.0   \n",
       "2             Biggin   4/02/2016       2.5    3067.0  ...       1.0  0.0   \n",
       "3             Rounds   4/02/2016       2.5    3067.0  ...       2.0  1.0   \n",
       "4             Biggin   4/03/2017       2.5    3067.0  ...       2.0  0.0   \n",
       "...              ...         ...       ...       ...  ...       ...  ...   \n",
       "34852            Jas  24/02/2018       6.3    3013.0  ...       1.0  3.0   \n",
       "34853        Sweeney  24/02/2018       6.3    3013.0  ...       2.0  1.0   \n",
       "34854            Jas  24/02/2018       6.3    3013.0  ...       1.0  2.0   \n",
       "34855  hockingstuart  24/02/2018       6.3    3013.0  ...       NaN  NaN   \n",
       "34856             RW  24/02/2018       6.3    3013.0  ...       1.0  0.0   \n",
       "\n",
       "       Landsize  BuildingArea  YearBuilt               CouncilArea Lattitude  \\\n",
       "0         126.0           NaN        NaN        Yarra City Council -37.80140   \n",
       "1         202.0           NaN        NaN        Yarra City Council -37.79960   \n",
       "2         156.0          79.0     1900.0        Yarra City Council -37.80790   \n",
       "3           0.0           NaN        NaN        Yarra City Council -37.81140   \n",
       "4         134.0         150.0     1900.0        Yarra City Council -37.80930   \n",
       "...         ...           ...        ...                       ...       ...   \n",
       "34852     593.0           NaN        NaN  Maribyrnong City Council -37.81053   \n",
       "34853      98.0         104.0     2018.0  Maribyrnong City Council -37.81551   \n",
       "34854     220.0         120.0     2000.0  Maribyrnong City Council -37.82286   \n",
       "34855       NaN           NaN        NaN  Maribyrnong City Council       NaN   \n",
       "34856     250.0         103.0     1930.0  Maribyrnong City Council -37.81810   \n",
       "\n",
       "       Longtitude             Regionname Propertycount  \n",
       "0       144.99580  Northern Metropolitan        4019.0  \n",
       "1       144.99840  Northern Metropolitan        4019.0  \n",
       "2       144.99340  Northern Metropolitan        4019.0  \n",
       "3       145.01160  Northern Metropolitan        4019.0  \n",
       "4       144.99440  Northern Metropolitan        4019.0  \n",
       "...           ...                    ...           ...  \n",
       "34852   144.88467   Western Metropolitan        6543.0  \n",
       "34853   144.88826   Western Metropolitan        6543.0  \n",
       "34854   144.87856   Western Metropolitan        6543.0  \n",
       "34855         NaN   Western Metropolitan        6543.0  \n",
       "34856   144.89351   Western Metropolitan        6543.0  \n",
       "\n",
       "[34857 rows x 21 columns]"
      ]
     },
     "execution_count": 82,
     "metadata": {},
     "output_type": "execute_result"
    }
   ],
   "source": [
    "df"
   ]
  },
  {
   "cell_type": "code",
   "execution_count": 83,
   "id": "cb8f557c-edbd-422c-b7bb-2ae205df8a6e",
   "metadata": {},
   "outputs": [
    {
     "data": {
      "text/html": [
       "<div>\n",
       "<style scoped>\n",
       "    .dataframe tbody tr th:only-of-type {\n",
       "        vertical-align: middle;\n",
       "    }\n",
       "\n",
       "    .dataframe tbody tr th {\n",
       "        vertical-align: top;\n",
       "    }\n",
       "\n",
       "    .dataframe thead th {\n",
       "        text-align: right;\n",
       "    }\n",
       "</style>\n",
       "<table border=\"1\" class=\"dataframe\">\n",
       "  <thead>\n",
       "    <tr style=\"text-align: right;\">\n",
       "      <th></th>\n",
       "      <th>Suburb</th>\n",
       "      <th>Address</th>\n",
       "      <th>Rooms</th>\n",
       "      <th>Type</th>\n",
       "      <th>Price</th>\n",
       "      <th>Method</th>\n",
       "      <th>SellerG</th>\n",
       "      <th>Date</th>\n",
       "      <th>Distance</th>\n",
       "      <th>Postcode</th>\n",
       "      <th>...</th>\n",
       "      <th>Bathroom</th>\n",
       "      <th>Car</th>\n",
       "      <th>Landsize</th>\n",
       "      <th>BuildingArea</th>\n",
       "      <th>YearBuilt</th>\n",
       "      <th>CouncilArea</th>\n",
       "      <th>Lattitude</th>\n",
       "      <th>Longtitude</th>\n",
       "      <th>Regionname</th>\n",
       "      <th>Propertycount</th>\n",
       "    </tr>\n",
       "  </thead>\n",
       "  <tbody>\n",
       "    <tr>\n",
       "      <th>0</th>\n",
       "      <td>Abbotsford</td>\n",
       "      <td>68 Studley St</td>\n",
       "      <td>2</td>\n",
       "      <td>h</td>\n",
       "      <td>NaN</td>\n",
       "      <td>SS</td>\n",
       "      <td>Jellis</td>\n",
       "      <td>3/09/2016</td>\n",
       "      <td>2.5</td>\n",
       "      <td>3067.0</td>\n",
       "      <td>...</td>\n",
       "      <td>1.0</td>\n",
       "      <td>1.0</td>\n",
       "      <td>126.0</td>\n",
       "      <td>NaN</td>\n",
       "      <td>NaN</td>\n",
       "      <td>Yarra City Council</td>\n",
       "      <td>-37.8014</td>\n",
       "      <td>144.9958</td>\n",
       "      <td>Northern Metropolitan</td>\n",
       "      <td>4019.0</td>\n",
       "    </tr>\n",
       "    <tr>\n",
       "      <th>1</th>\n",
       "      <td>Abbotsford</td>\n",
       "      <td>85 Turner St</td>\n",
       "      <td>2</td>\n",
       "      <td>h</td>\n",
       "      <td>1480000.0</td>\n",
       "      <td>S</td>\n",
       "      <td>Biggin</td>\n",
       "      <td>3/12/2016</td>\n",
       "      <td>2.5</td>\n",
       "      <td>3067.0</td>\n",
       "      <td>...</td>\n",
       "      <td>1.0</td>\n",
       "      <td>1.0</td>\n",
       "      <td>202.0</td>\n",
       "      <td>NaN</td>\n",
       "      <td>NaN</td>\n",
       "      <td>Yarra City Council</td>\n",
       "      <td>-37.7996</td>\n",
       "      <td>144.9984</td>\n",
       "      <td>Northern Metropolitan</td>\n",
       "      <td>4019.0</td>\n",
       "    </tr>\n",
       "    <tr>\n",
       "      <th>2</th>\n",
       "      <td>Abbotsford</td>\n",
       "      <td>25 Bloomburg St</td>\n",
       "      <td>2</td>\n",
       "      <td>h</td>\n",
       "      <td>1035000.0</td>\n",
       "      <td>S</td>\n",
       "      <td>Biggin</td>\n",
       "      <td>4/02/2016</td>\n",
       "      <td>2.5</td>\n",
       "      <td>3067.0</td>\n",
       "      <td>...</td>\n",
       "      <td>1.0</td>\n",
       "      <td>0.0</td>\n",
       "      <td>156.0</td>\n",
       "      <td>79.0</td>\n",
       "      <td>1900.0</td>\n",
       "      <td>Yarra City Council</td>\n",
       "      <td>-37.8079</td>\n",
       "      <td>144.9934</td>\n",
       "      <td>Northern Metropolitan</td>\n",
       "      <td>4019.0</td>\n",
       "    </tr>\n",
       "    <tr>\n",
       "      <th>3</th>\n",
       "      <td>Abbotsford</td>\n",
       "      <td>18/659 Victoria St</td>\n",
       "      <td>3</td>\n",
       "      <td>u</td>\n",
       "      <td>NaN</td>\n",
       "      <td>VB</td>\n",
       "      <td>Rounds</td>\n",
       "      <td>4/02/2016</td>\n",
       "      <td>2.5</td>\n",
       "      <td>3067.0</td>\n",
       "      <td>...</td>\n",
       "      <td>2.0</td>\n",
       "      <td>1.0</td>\n",
       "      <td>0.0</td>\n",
       "      <td>NaN</td>\n",
       "      <td>NaN</td>\n",
       "      <td>Yarra City Council</td>\n",
       "      <td>-37.8114</td>\n",
       "      <td>145.0116</td>\n",
       "      <td>Northern Metropolitan</td>\n",
       "      <td>4019.0</td>\n",
       "    </tr>\n",
       "    <tr>\n",
       "      <th>4</th>\n",
       "      <td>Abbotsford</td>\n",
       "      <td>5 Charles St</td>\n",
       "      <td>3</td>\n",
       "      <td>h</td>\n",
       "      <td>1465000.0</td>\n",
       "      <td>SP</td>\n",
       "      <td>Biggin</td>\n",
       "      <td>4/03/2017</td>\n",
       "      <td>2.5</td>\n",
       "      <td>3067.0</td>\n",
       "      <td>...</td>\n",
       "      <td>2.0</td>\n",
       "      <td>0.0</td>\n",
       "      <td>134.0</td>\n",
       "      <td>150.0</td>\n",
       "      <td>1900.0</td>\n",
       "      <td>Yarra City Council</td>\n",
       "      <td>-37.8093</td>\n",
       "      <td>144.9944</td>\n",
       "      <td>Northern Metropolitan</td>\n",
       "      <td>4019.0</td>\n",
       "    </tr>\n",
       "  </tbody>\n",
       "</table>\n",
       "<p>5 rows × 21 columns</p>\n",
       "</div>"
      ],
      "text/plain": [
       "       Suburb             Address  Rooms Type      Price Method SellerG  \\\n",
       "0  Abbotsford       68 Studley St      2    h        NaN     SS  Jellis   \n",
       "1  Abbotsford        85 Turner St      2    h  1480000.0      S  Biggin   \n",
       "2  Abbotsford     25 Bloomburg St      2    h  1035000.0      S  Biggin   \n",
       "3  Abbotsford  18/659 Victoria St      3    u        NaN     VB  Rounds   \n",
       "4  Abbotsford        5 Charles St      3    h  1465000.0     SP  Biggin   \n",
       "\n",
       "        Date  Distance  Postcode  ...  Bathroom  Car  Landsize  BuildingArea  \\\n",
       "0  3/09/2016       2.5    3067.0  ...       1.0  1.0     126.0           NaN   \n",
       "1  3/12/2016       2.5    3067.0  ...       1.0  1.0     202.0           NaN   \n",
       "2  4/02/2016       2.5    3067.0  ...       1.0  0.0     156.0          79.0   \n",
       "3  4/02/2016       2.5    3067.0  ...       2.0  1.0       0.0           NaN   \n",
       "4  4/03/2017       2.5    3067.0  ...       2.0  0.0     134.0         150.0   \n",
       "\n",
       "   YearBuilt         CouncilArea Lattitude  Longtitude             Regionname  \\\n",
       "0        NaN  Yarra City Council  -37.8014    144.9958  Northern Metropolitan   \n",
       "1        NaN  Yarra City Council  -37.7996    144.9984  Northern Metropolitan   \n",
       "2     1900.0  Yarra City Council  -37.8079    144.9934  Northern Metropolitan   \n",
       "3        NaN  Yarra City Council  -37.8114    145.0116  Northern Metropolitan   \n",
       "4     1900.0  Yarra City Council  -37.8093    144.9944  Northern Metropolitan   \n",
       "\n",
       "  Propertycount  \n",
       "0        4019.0  \n",
       "1        4019.0  \n",
       "2        4019.0  \n",
       "3        4019.0  \n",
       "4        4019.0  \n",
       "\n",
       "[5 rows x 21 columns]"
      ]
     },
     "execution_count": 83,
     "metadata": {},
     "output_type": "execute_result"
    }
   ],
   "source": [
    "df.head()"
   ]
  },
  {
   "cell_type": "code",
   "execution_count": 84,
   "id": "6424d44f-f96b-4716-a934-94dfb66fd04d",
   "metadata": {},
   "outputs": [
    {
     "data": {
      "text/html": [
       "<div>\n",
       "<style scoped>\n",
       "    .dataframe tbody tr th:only-of-type {\n",
       "        vertical-align: middle;\n",
       "    }\n",
       "\n",
       "    .dataframe tbody tr th {\n",
       "        vertical-align: top;\n",
       "    }\n",
       "\n",
       "    .dataframe thead th {\n",
       "        text-align: right;\n",
       "    }\n",
       "</style>\n",
       "<table border=\"1\" class=\"dataframe\">\n",
       "  <thead>\n",
       "    <tr style=\"text-align: right;\">\n",
       "      <th></th>\n",
       "      <th>Suburb</th>\n",
       "      <th>Address</th>\n",
       "      <th>Rooms</th>\n",
       "      <th>Type</th>\n",
       "      <th>Price</th>\n",
       "      <th>Method</th>\n",
       "      <th>SellerG</th>\n",
       "      <th>Date</th>\n",
       "      <th>Distance</th>\n",
       "      <th>Postcode</th>\n",
       "      <th>...</th>\n",
       "      <th>Bathroom</th>\n",
       "      <th>Car</th>\n",
       "      <th>Landsize</th>\n",
       "      <th>BuildingArea</th>\n",
       "      <th>YearBuilt</th>\n",
       "      <th>CouncilArea</th>\n",
       "      <th>Lattitude</th>\n",
       "      <th>Longtitude</th>\n",
       "      <th>Regionname</th>\n",
       "      <th>Propertycount</th>\n",
       "    </tr>\n",
       "  </thead>\n",
       "  <tbody>\n",
       "    <tr>\n",
       "      <th>34852</th>\n",
       "      <td>Yarraville</td>\n",
       "      <td>13 Burns St</td>\n",
       "      <td>4</td>\n",
       "      <td>h</td>\n",
       "      <td>1480000.0</td>\n",
       "      <td>PI</td>\n",
       "      <td>Jas</td>\n",
       "      <td>24/02/2018</td>\n",
       "      <td>6.3</td>\n",
       "      <td>3013.0</td>\n",
       "      <td>...</td>\n",
       "      <td>1.0</td>\n",
       "      <td>3.0</td>\n",
       "      <td>593.0</td>\n",
       "      <td>NaN</td>\n",
       "      <td>NaN</td>\n",
       "      <td>Maribyrnong City Council</td>\n",
       "      <td>-37.81053</td>\n",
       "      <td>144.88467</td>\n",
       "      <td>Western Metropolitan</td>\n",
       "      <td>6543.0</td>\n",
       "    </tr>\n",
       "    <tr>\n",
       "      <th>34853</th>\n",
       "      <td>Yarraville</td>\n",
       "      <td>29A Murray St</td>\n",
       "      <td>2</td>\n",
       "      <td>h</td>\n",
       "      <td>888000.0</td>\n",
       "      <td>SP</td>\n",
       "      <td>Sweeney</td>\n",
       "      <td>24/02/2018</td>\n",
       "      <td>6.3</td>\n",
       "      <td>3013.0</td>\n",
       "      <td>...</td>\n",
       "      <td>2.0</td>\n",
       "      <td>1.0</td>\n",
       "      <td>98.0</td>\n",
       "      <td>104.0</td>\n",
       "      <td>2018.0</td>\n",
       "      <td>Maribyrnong City Council</td>\n",
       "      <td>-37.81551</td>\n",
       "      <td>144.88826</td>\n",
       "      <td>Western Metropolitan</td>\n",
       "      <td>6543.0</td>\n",
       "    </tr>\n",
       "    <tr>\n",
       "      <th>34854</th>\n",
       "      <td>Yarraville</td>\n",
       "      <td>147A Severn St</td>\n",
       "      <td>2</td>\n",
       "      <td>t</td>\n",
       "      <td>705000.0</td>\n",
       "      <td>S</td>\n",
       "      <td>Jas</td>\n",
       "      <td>24/02/2018</td>\n",
       "      <td>6.3</td>\n",
       "      <td>3013.0</td>\n",
       "      <td>...</td>\n",
       "      <td>1.0</td>\n",
       "      <td>2.0</td>\n",
       "      <td>220.0</td>\n",
       "      <td>120.0</td>\n",
       "      <td>2000.0</td>\n",
       "      <td>Maribyrnong City Council</td>\n",
       "      <td>-37.82286</td>\n",
       "      <td>144.87856</td>\n",
       "      <td>Western Metropolitan</td>\n",
       "      <td>6543.0</td>\n",
       "    </tr>\n",
       "    <tr>\n",
       "      <th>34855</th>\n",
       "      <td>Yarraville</td>\n",
       "      <td>12/37 Stephen St</td>\n",
       "      <td>3</td>\n",
       "      <td>h</td>\n",
       "      <td>1140000.0</td>\n",
       "      <td>SP</td>\n",
       "      <td>hockingstuart</td>\n",
       "      <td>24/02/2018</td>\n",
       "      <td>6.3</td>\n",
       "      <td>3013.0</td>\n",
       "      <td>...</td>\n",
       "      <td>NaN</td>\n",
       "      <td>NaN</td>\n",
       "      <td>NaN</td>\n",
       "      <td>NaN</td>\n",
       "      <td>NaN</td>\n",
       "      <td>Maribyrnong City Council</td>\n",
       "      <td>NaN</td>\n",
       "      <td>NaN</td>\n",
       "      <td>Western Metropolitan</td>\n",
       "      <td>6543.0</td>\n",
       "    </tr>\n",
       "    <tr>\n",
       "      <th>34856</th>\n",
       "      <td>Yarraville</td>\n",
       "      <td>3 Tarrengower St</td>\n",
       "      <td>2</td>\n",
       "      <td>h</td>\n",
       "      <td>1020000.0</td>\n",
       "      <td>PI</td>\n",
       "      <td>RW</td>\n",
       "      <td>24/02/2018</td>\n",
       "      <td>6.3</td>\n",
       "      <td>3013.0</td>\n",
       "      <td>...</td>\n",
       "      <td>1.0</td>\n",
       "      <td>0.0</td>\n",
       "      <td>250.0</td>\n",
       "      <td>103.0</td>\n",
       "      <td>1930.0</td>\n",
       "      <td>Maribyrnong City Council</td>\n",
       "      <td>-37.81810</td>\n",
       "      <td>144.89351</td>\n",
       "      <td>Western Metropolitan</td>\n",
       "      <td>6543.0</td>\n",
       "    </tr>\n",
       "  </tbody>\n",
       "</table>\n",
       "<p>5 rows × 21 columns</p>\n",
       "</div>"
      ],
      "text/plain": [
       "           Suburb           Address  Rooms Type      Price Method  \\\n",
       "34852  Yarraville       13 Burns St      4    h  1480000.0     PI   \n",
       "34853  Yarraville     29A Murray St      2    h   888000.0     SP   \n",
       "34854  Yarraville    147A Severn St      2    t   705000.0      S   \n",
       "34855  Yarraville  12/37 Stephen St      3    h  1140000.0     SP   \n",
       "34856  Yarraville  3 Tarrengower St      2    h  1020000.0     PI   \n",
       "\n",
       "             SellerG        Date  Distance  Postcode  ...  Bathroom  Car  \\\n",
       "34852            Jas  24/02/2018       6.3    3013.0  ...       1.0  3.0   \n",
       "34853        Sweeney  24/02/2018       6.3    3013.0  ...       2.0  1.0   \n",
       "34854            Jas  24/02/2018       6.3    3013.0  ...       1.0  2.0   \n",
       "34855  hockingstuart  24/02/2018       6.3    3013.0  ...       NaN  NaN   \n",
       "34856             RW  24/02/2018       6.3    3013.0  ...       1.0  0.0   \n",
       "\n",
       "       Landsize  BuildingArea  YearBuilt               CouncilArea Lattitude  \\\n",
       "34852     593.0           NaN        NaN  Maribyrnong City Council -37.81053   \n",
       "34853      98.0         104.0     2018.0  Maribyrnong City Council -37.81551   \n",
       "34854     220.0         120.0     2000.0  Maribyrnong City Council -37.82286   \n",
       "34855       NaN           NaN        NaN  Maribyrnong City Council       NaN   \n",
       "34856     250.0         103.0     1930.0  Maribyrnong City Council -37.81810   \n",
       "\n",
       "       Longtitude            Regionname Propertycount  \n",
       "34852   144.88467  Western Metropolitan        6543.0  \n",
       "34853   144.88826  Western Metropolitan        6543.0  \n",
       "34854   144.87856  Western Metropolitan        6543.0  \n",
       "34855         NaN  Western Metropolitan        6543.0  \n",
       "34856   144.89351  Western Metropolitan        6543.0  \n",
       "\n",
       "[5 rows x 21 columns]"
      ]
     },
     "execution_count": 84,
     "metadata": {},
     "output_type": "execute_result"
    }
   ],
   "source": [
    "df.tail()"
   ]
  },
  {
   "cell_type": "code",
   "execution_count": 85,
   "id": "e4d449bb-9b1b-453b-b3c7-a479b4d5ac3e",
   "metadata": {},
   "outputs": [
    {
     "data": {
      "text/plain": [
       "731997"
      ]
     },
     "execution_count": 85,
     "metadata": {},
     "output_type": "execute_result"
    }
   ],
   "source": [
    "df.size"
   ]
  },
  {
   "cell_type": "code",
   "execution_count": 86,
   "id": "dd5f3b8d-d1a1-4a3f-99e1-760a961198f7",
   "metadata": {},
   "outputs": [
    {
     "data": {
      "text/plain": [
       "(34857, 21)"
      ]
     },
     "execution_count": 86,
     "metadata": {},
     "output_type": "execute_result"
    }
   ],
   "source": [
    "df.shape"
   ]
  },
  {
   "cell_type": "code",
   "execution_count": 87,
   "id": "c118c014-9116-42b8-9285-d15eb2f93cfe",
   "metadata": {},
   "outputs": [
    {
     "data": {
      "text/plain": [
       "Index(['Suburb', 'Address', 'Rooms', 'Type', 'Price', 'Method', 'SellerG',\n",
       "       'Date', 'Distance', 'Postcode', 'Bedroom2', 'Bathroom', 'Car',\n",
       "       'Landsize', 'BuildingArea', 'YearBuilt', 'CouncilArea', 'Lattitude',\n",
       "       'Longtitude', 'Regionname', 'Propertycount'],\n",
       "      dtype='object')"
      ]
     },
     "execution_count": 87,
     "metadata": {},
     "output_type": "execute_result"
    }
   ],
   "source": [
    "df.columns"
   ]
  },
  {
   "cell_type": "code",
   "execution_count": 88,
   "id": "32933331-6e88-434a-99cb-83539dd7867f",
   "metadata": {},
   "outputs": [
    {
     "name": "stdout",
     "output_type": "stream",
     "text": [
      "<class 'pandas.core.frame.DataFrame'>\n",
      "RangeIndex: 34857 entries, 0 to 34856\n",
      "Data columns (total 21 columns):\n",
      " #   Column         Non-Null Count  Dtype  \n",
      "---  ------         --------------  -----  \n",
      " 0   Suburb         34857 non-null  object \n",
      " 1   Address        34857 non-null  object \n",
      " 2   Rooms          34857 non-null  int64  \n",
      " 3   Type           34857 non-null  object \n",
      " 4   Price          27247 non-null  float64\n",
      " 5   Method         34857 non-null  object \n",
      " 6   SellerG        34857 non-null  object \n",
      " 7   Date           34857 non-null  object \n",
      " 8   Distance       34856 non-null  float64\n",
      " 9   Postcode       34856 non-null  float64\n",
      " 10  Bedroom2       26640 non-null  float64\n",
      " 11  Bathroom       26631 non-null  float64\n",
      " 12  Car            26129 non-null  float64\n",
      " 13  Landsize       23047 non-null  float64\n",
      " 14  BuildingArea   13742 non-null  float64\n",
      " 15  YearBuilt      15551 non-null  float64\n",
      " 16  CouncilArea    34854 non-null  object \n",
      " 17  Lattitude      26881 non-null  float64\n",
      " 18  Longtitude     26881 non-null  float64\n",
      " 19  Regionname     34854 non-null  object \n",
      " 20  Propertycount  34854 non-null  float64\n",
      "dtypes: float64(12), int64(1), object(8)\n",
      "memory usage: 5.6+ MB\n"
     ]
    }
   ],
   "source": [
    "df.info()"
   ]
  },
  {
   "cell_type": "code",
   "execution_count": 89,
   "id": "31371c8a-41bf-41aa-9733-d8c47f6310e0",
   "metadata": {},
   "outputs": [
    {
     "data": {
      "text/html": [
       "<div>\n",
       "<style scoped>\n",
       "    .dataframe tbody tr th:only-of-type {\n",
       "        vertical-align: middle;\n",
       "    }\n",
       "\n",
       "    .dataframe tbody tr th {\n",
       "        vertical-align: top;\n",
       "    }\n",
       "\n",
       "    .dataframe thead th {\n",
       "        text-align: right;\n",
       "    }\n",
       "</style>\n",
       "<table border=\"1\" class=\"dataframe\">\n",
       "  <thead>\n",
       "    <tr style=\"text-align: right;\">\n",
       "      <th></th>\n",
       "      <th>Rooms</th>\n",
       "      <th>Price</th>\n",
       "      <th>Distance</th>\n",
       "      <th>Postcode</th>\n",
       "      <th>Bedroom2</th>\n",
       "      <th>Bathroom</th>\n",
       "      <th>Car</th>\n",
       "      <th>Landsize</th>\n",
       "      <th>BuildingArea</th>\n",
       "      <th>YearBuilt</th>\n",
       "      <th>Lattitude</th>\n",
       "      <th>Longtitude</th>\n",
       "      <th>Propertycount</th>\n",
       "    </tr>\n",
       "  </thead>\n",
       "  <tbody>\n",
       "    <tr>\n",
       "      <th>count</th>\n",
       "      <td>34857.000000</td>\n",
       "      <td>2.724700e+04</td>\n",
       "      <td>34856.000000</td>\n",
       "      <td>34856.000000</td>\n",
       "      <td>26640.000000</td>\n",
       "      <td>26631.000000</td>\n",
       "      <td>26129.000000</td>\n",
       "      <td>23047.000000</td>\n",
       "      <td>13742.00000</td>\n",
       "      <td>15551.000000</td>\n",
       "      <td>26881.000000</td>\n",
       "      <td>26881.000000</td>\n",
       "      <td>34854.000000</td>\n",
       "    </tr>\n",
       "    <tr>\n",
       "      <th>mean</th>\n",
       "      <td>3.031012</td>\n",
       "      <td>1.050173e+06</td>\n",
       "      <td>11.184929</td>\n",
       "      <td>3116.062859</td>\n",
       "      <td>3.084647</td>\n",
       "      <td>1.624798</td>\n",
       "      <td>1.728845</td>\n",
       "      <td>593.598993</td>\n",
       "      <td>160.25640</td>\n",
       "      <td>1965.289885</td>\n",
       "      <td>-37.810634</td>\n",
       "      <td>145.001851</td>\n",
       "      <td>7572.888306</td>\n",
       "    </tr>\n",
       "    <tr>\n",
       "      <th>std</th>\n",
       "      <td>0.969933</td>\n",
       "      <td>6.414671e+05</td>\n",
       "      <td>6.788892</td>\n",
       "      <td>109.023903</td>\n",
       "      <td>0.980690</td>\n",
       "      <td>0.724212</td>\n",
       "      <td>1.010771</td>\n",
       "      <td>3398.841946</td>\n",
       "      <td>401.26706</td>\n",
       "      <td>37.328178</td>\n",
       "      <td>0.090279</td>\n",
       "      <td>0.120169</td>\n",
       "      <td>4428.090313</td>\n",
       "    </tr>\n",
       "    <tr>\n",
       "      <th>min</th>\n",
       "      <td>1.000000</td>\n",
       "      <td>8.500000e+04</td>\n",
       "      <td>0.000000</td>\n",
       "      <td>3000.000000</td>\n",
       "      <td>0.000000</td>\n",
       "      <td>0.000000</td>\n",
       "      <td>0.000000</td>\n",
       "      <td>0.000000</td>\n",
       "      <td>0.00000</td>\n",
       "      <td>1196.000000</td>\n",
       "      <td>-38.190430</td>\n",
       "      <td>144.423790</td>\n",
       "      <td>83.000000</td>\n",
       "    </tr>\n",
       "    <tr>\n",
       "      <th>25%</th>\n",
       "      <td>2.000000</td>\n",
       "      <td>6.350000e+05</td>\n",
       "      <td>6.400000</td>\n",
       "      <td>3051.000000</td>\n",
       "      <td>2.000000</td>\n",
       "      <td>1.000000</td>\n",
       "      <td>1.000000</td>\n",
       "      <td>224.000000</td>\n",
       "      <td>102.00000</td>\n",
       "      <td>1940.000000</td>\n",
       "      <td>-37.862950</td>\n",
       "      <td>144.933500</td>\n",
       "      <td>4385.000000</td>\n",
       "    </tr>\n",
       "    <tr>\n",
       "      <th>50%</th>\n",
       "      <td>3.000000</td>\n",
       "      <td>8.700000e+05</td>\n",
       "      <td>10.300000</td>\n",
       "      <td>3103.000000</td>\n",
       "      <td>3.000000</td>\n",
       "      <td>2.000000</td>\n",
       "      <td>2.000000</td>\n",
       "      <td>521.000000</td>\n",
       "      <td>136.00000</td>\n",
       "      <td>1970.000000</td>\n",
       "      <td>-37.807600</td>\n",
       "      <td>145.007800</td>\n",
       "      <td>6763.000000</td>\n",
       "    </tr>\n",
       "    <tr>\n",
       "      <th>75%</th>\n",
       "      <td>4.000000</td>\n",
       "      <td>1.295000e+06</td>\n",
       "      <td>14.000000</td>\n",
       "      <td>3156.000000</td>\n",
       "      <td>4.000000</td>\n",
       "      <td>2.000000</td>\n",
       "      <td>2.000000</td>\n",
       "      <td>670.000000</td>\n",
       "      <td>188.00000</td>\n",
       "      <td>2000.000000</td>\n",
       "      <td>-37.754100</td>\n",
       "      <td>145.071900</td>\n",
       "      <td>10412.000000</td>\n",
       "    </tr>\n",
       "    <tr>\n",
       "      <th>max</th>\n",
       "      <td>16.000000</td>\n",
       "      <td>1.120000e+07</td>\n",
       "      <td>48.100000</td>\n",
       "      <td>3978.000000</td>\n",
       "      <td>30.000000</td>\n",
       "      <td>12.000000</td>\n",
       "      <td>26.000000</td>\n",
       "      <td>433014.000000</td>\n",
       "      <td>44515.00000</td>\n",
       "      <td>2106.000000</td>\n",
       "      <td>-37.390200</td>\n",
       "      <td>145.526350</td>\n",
       "      <td>21650.000000</td>\n",
       "    </tr>\n",
       "  </tbody>\n",
       "</table>\n",
       "</div>"
      ],
      "text/plain": [
       "              Rooms         Price      Distance      Postcode      Bedroom2  \\\n",
       "count  34857.000000  2.724700e+04  34856.000000  34856.000000  26640.000000   \n",
       "mean       3.031012  1.050173e+06     11.184929   3116.062859      3.084647   \n",
       "std        0.969933  6.414671e+05      6.788892    109.023903      0.980690   \n",
       "min        1.000000  8.500000e+04      0.000000   3000.000000      0.000000   \n",
       "25%        2.000000  6.350000e+05      6.400000   3051.000000      2.000000   \n",
       "50%        3.000000  8.700000e+05     10.300000   3103.000000      3.000000   \n",
       "75%        4.000000  1.295000e+06     14.000000   3156.000000      4.000000   \n",
       "max       16.000000  1.120000e+07     48.100000   3978.000000     30.000000   \n",
       "\n",
       "           Bathroom           Car       Landsize  BuildingArea     YearBuilt  \\\n",
       "count  26631.000000  26129.000000   23047.000000   13742.00000  15551.000000   \n",
       "mean       1.624798      1.728845     593.598993     160.25640   1965.289885   \n",
       "std        0.724212      1.010771    3398.841946     401.26706     37.328178   \n",
       "min        0.000000      0.000000       0.000000       0.00000   1196.000000   \n",
       "25%        1.000000      1.000000     224.000000     102.00000   1940.000000   \n",
       "50%        2.000000      2.000000     521.000000     136.00000   1970.000000   \n",
       "75%        2.000000      2.000000     670.000000     188.00000   2000.000000   \n",
       "max       12.000000     26.000000  433014.000000   44515.00000   2106.000000   \n",
       "\n",
       "          Lattitude    Longtitude  Propertycount  \n",
       "count  26881.000000  26881.000000   34854.000000  \n",
       "mean     -37.810634    145.001851    7572.888306  \n",
       "std        0.090279      0.120169    4428.090313  \n",
       "min      -38.190430    144.423790      83.000000  \n",
       "25%      -37.862950    144.933500    4385.000000  \n",
       "50%      -37.807600    145.007800    6763.000000  \n",
       "75%      -37.754100    145.071900   10412.000000  \n",
       "max      -37.390200    145.526350   21650.000000  "
      ]
     },
     "execution_count": 89,
     "metadata": {},
     "output_type": "execute_result"
    }
   ],
   "source": [
    "df.describe()"
   ]
  },
  {
   "cell_type": "code",
   "execution_count": 90,
   "id": "8070ee9e-e5be-47ce-9f58-5d9d18835da0",
   "metadata": {},
   "outputs": [],
   "source": [
    "cols_to_use=['Suburb','Rooms', 'Type','Method', 'SellerG', 'Regionname','Propertycount',\n",
    "        'Distance','Bedroom2', 'Bathroom', 'Car',\n",
    "       'Landsize', 'BuildingArea','Price']\n",
    "df=df[cols_to_use]"
   ]
  },
  {
   "cell_type": "markdown",
   "id": "1dab9462-6344-4ee7-bc5a-a14dc2cf5e6b",
   "metadata": {},
   "source": [
    "## missing values"
   ]
  },
  {
   "cell_type": "code",
   "execution_count": 91,
   "id": "3ebf84d7-77ce-4bbe-8faa-5b13dbf903cc",
   "metadata": {},
   "outputs": [
    {
     "data": {
      "text/plain": [
       "Suburb               0\n",
       "Rooms                0\n",
       "Type                 0\n",
       "Method               0\n",
       "SellerG              0\n",
       "Regionname           3\n",
       "Propertycount        3\n",
       "Distance             1\n",
       "Bedroom2          8217\n",
       "Bathroom          8226\n",
       "Car               8728\n",
       "Landsize         11810\n",
       "BuildingArea     21115\n",
       "Price             7610\n",
       "dtype: int64"
      ]
     },
     "execution_count": 91,
     "metadata": {},
     "output_type": "execute_result"
    }
   ],
   "source": [
    "df.isnull().sum()"
   ]
  },
  {
   "cell_type": "code",
   "execution_count": 92,
   "id": "609e9a76-065f-4933-a62f-8495e267f6e6",
   "metadata": {},
   "outputs": [],
   "source": [
    "import warnings\n",
    "warnings.filterwarnings(\"ignore\")"
   ]
  },
  {
   "cell_type": "code",
   "execution_count": 93,
   "id": "34eaf39e-6940-466a-8152-3517f5fe4474",
   "metadata": {},
   "outputs": [],
   "source": [
    "\n",
    "cols_to_fill_zero = ['Propertycount','Distance','Bedroom2', 'Bathroom', 'Car']\n",
    "df[cols_to_fill_zero]=df[cols_to_fill_zero].fillna(0)\n",
    "df['Landsize']=df['Landsize'].fillna(df.Landsize.mean())\n",
    "df['BuildingArea']=df['BuildingArea'].fillna(df.BuildingArea.mean())"
   ]
  },
  {
   "cell_type": "code",
   "execution_count": 94,
   "id": "8393f674-2e19-459a-9040-62e283a99639",
   "metadata": {},
   "outputs": [],
   "source": [
    "df.dropna(inplace=True)"
   ]
  },
  {
   "cell_type": "code",
   "execution_count": 95,
   "id": "5b744208-a410-4047-b5ab-3e3923490c1c",
   "metadata": {},
   "outputs": [
    {
     "data": {
      "text/plain": [
       "(27244, 14)"
      ]
     },
     "execution_count": 95,
     "metadata": {},
     "output_type": "execute_result"
    }
   ],
   "source": [
    "df.shape"
   ]
  },
  {
   "cell_type": "code",
   "execution_count": 96,
   "id": "6c7ccee1-1e26-47cb-821e-53d8fcd1e1b8",
   "metadata": {},
   "outputs": [
    {
     "data": {
      "text/plain": [
       "<Axes: xlabel='Rooms'>"
      ]
     },
     "execution_count": 96,
     "metadata": {},
     "output_type": "execute_result"
    },
    {
     "data": {
      "image/png": "[encoded data removed]",
      "text/plain": [
       "<Figure size 640x480 with 1 Axes>"
      ]
     },
     "metadata": {},
     "output_type": "display_data"
    }
   ],
   "source": [
    "import seaborn as sns\n",
    "import matplotlib.pyplot as plt\n",
    "sns.boxplot(x='Rooms',data=df,orient='h')"
   ]
  },
  {
   "cell_type": "code",
   "execution_count": 97,
   "id": "53d486d5-e209-4751-b37d-e213a0bc7a26",
   "metadata": {},
   "outputs": [
    {
     "name": "stdout",
     "output_type": "stream",
     "text": [
      "1st quartile = 2.0 \n",
      "3rd quartile range = 4.0 \n",
      "inter quartile range = 2.0 \n"
     ]
    }
   ],
   "source": [
    "from scipy import stats\n",
    "\n",
    "q1 = df['Rooms'].quantile(q = 0.25)\n",
    "q3 = df['Rooms'].quantile(q = 0.75)\n",
    "IQR = q3 - q1\n",
    "print('1st quartile = {} \\n3rd quartile range = {} \\ninter quartile range = {} '.format(q1, q3, stats.iqr(df['Rooms'])))"
   ]
  },
  {
   "cell_type": "code",
   "execution_count": 98,
   "id": "992e9f7f-c5b1-43fa-bb4c-395346899306",
   "metadata": {},
   "outputs": [
    {
     "name": "stdout",
     "output_type": "stream",
     "text": [
      "lower_outlier= -1.0\n",
      "upper_outlier = 7.0\n"
     ]
    }
   ],
   "source": [
    "lower_outlier = q1-1.5*(IQR)\n",
    "upper_outlier = q3+1.5*(IQR)\n",
    "print('lower_outlier=',lower_outlier)\n",
    "print('upper_outlier =',upper_outlier)"
   ]
  },
  {
   "cell_type": "code",
   "execution_count": 99,
   "id": "cc444de8-8392-45f0-a21b-9ce57d8f3ccb",
   "metadata": {},
   "outputs": [
    {
     "name": "stdout",
     "output_type": "stream",
     "text": [
      "Number of upper_outlier= 23\n",
      "Number of lower_outlier= 0\n"
     ]
    }
   ],
   "source": [
    "print('Number of upper_outlier=',df[df['Rooms']>upper_outlier]['Rooms'].count())\n",
    "print('Number of lower_outlier=',df[df['Rooms']<lower_outlier]['Rooms'].count())"
   ]
  },
  {
   "cell_type": "code",
   "execution_count": 100,
   "id": "8f7d6146-5406-44c3-983e-c6ebd237f819",
   "metadata": {},
   "outputs": [],
   "source": [
    "df.loc[(df['Rooms']<lower_outlier) |(df['Rooms']>upper_outlier),['Rooms']]=df['Rooms'].median()"
   ]
  },
  {
   "cell_type": "code",
   "execution_count": 101,
   "id": "6e1400ba-e37a-430f-8a6d-3ff25eddb5b1",
   "metadata": {},
   "outputs": [
    {
     "name": "stdout",
     "output_type": "stream",
     "text": [
      "Number of upper_outlier= 0\n",
      "Number of lower_outlier= 0\n"
     ]
    }
   ],
   "source": [
    "print('Number of upper_outlier=',df[df['Rooms']>upper_outlier]['Rooms'].count())\n",
    "print('Number of lower_outlier=',df[df['Rooms']<lower_outlier]['Rooms'].count())"
   ]
  },
  {
   "cell_type": "code",
   "execution_count": 102,
   "id": "ea25c368-287e-49c5-8f13-4b5e6b01cbb5",
   "metadata": {},
   "outputs": [],
   "source": [
    "for cols in df.columns[::]:\n",
    "    if df[cols].dtype == object:\n",
    "        continue\n",
    "    else:\n",
    "        Q1=df[cols].quantile(q=0.25)\n",
    "        Q3=df[cols].quantile(q=0.75)\n",
    "        iqr=Q3-Q1\n",
    "        \n",
    "        low=Q1-1.5*(Q3-Q1)\n",
    "        high=Q3+1.5*(Q3-Q1)\n",
    "        df.loc[(df[cols]<low) | (df[cols]>high),cols] = df[cols].median()"
   ]
  },
  {
   "cell_type": "code",
   "execution_count": 103,
   "id": "ca81a6b6-b048-4c73-a69f-11ec0317429d",
   "metadata": {},
   "outputs": [
    {
     "data": {
      "text/plain": [
       "<Axes: xlabel='Rooms'>"
      ]
     },
     "execution_count": 103,
     "metadata": {},
     "output_type": "execute_result"
    },
    {
     "data": {
      "image/png": "[encoded data removed]",
      "text/plain": [
       "<Figure size 640x480 with 1 Axes>"
      ]
     },
     "metadata": {},
     "output_type": "display_data"
    }
   ],
   "source": [
    "sns.boxplot(x='Rooms',data=df,orient='h')"
   ]
  },
  {
   "cell_type": "code",
   "execution_count": 104,
   "id": "6a4f6ed5-8f3a-49f9-88bc-a99fbcc74b23",
   "metadata": {},
   "outputs": [
    {
     "data": {
      "text/plain": [
       "<Axes: xlabel='BuildingArea'>"
      ]
     },
     "execution_count": 104,
     "metadata": {},
     "output_type": "execute_result"
    },
    {
     "data": {
      "image/png": "[encoded data removed]",
      "text/plain": [
       "<Figure size 800x400 with 1 Axes>"
      ]
     },
     "metadata": {},
     "output_type": "display_data"
    }
   ],
   "source": [
    "plt.figure(figsize=(8,4))\n",
    "sns.boxplot(x='BuildingArea',data=df,orient='h')"
   ]
  },
  {
   "cell_type": "code",
   "execution_count": 105,
   "id": "d03b137e-12ab-4322-bd1c-8af5915a0dd8",
   "metadata": {},
   "outputs": [
    {
     "name": "stdout",
     "output_type": "stream",
     "text": [
      "(27244, 14)\n",
      "(27244, 7)\n"
     ]
    },
    {
     "data": {
      "text/html": [
       "<div>\n",
       "<style scoped>\n",
       "    .dataframe tbody tr th:only-of-type {\n",
       "        vertical-align: middle;\n",
       "    }\n",
       "\n",
       "    .dataframe tbody tr th {\n",
       "        vertical-align: top;\n",
       "    }\n",
       "\n",
       "    .dataframe thead th {\n",
       "        text-align: right;\n",
       "    }\n",
       "</style>\n",
       "<table border=\"1\" class=\"dataframe\">\n",
       "  <thead>\n",
       "    <tr style=\"text-align: right;\">\n",
       "      <th></th>\n",
       "      <th>Rooms</th>\n",
       "      <th>Propertycount</th>\n",
       "      <th>Distance</th>\n",
       "      <th>Bedroom2</th>\n",
       "      <th>Bathroom</th>\n",
       "      <th>Landsize</th>\n",
       "      <th>BuildingArea</th>\n",
       "    </tr>\n",
       "  </thead>\n",
       "  <tbody>\n",
       "    <tr>\n",
       "      <th>1</th>\n",
       "      <td>2</td>\n",
       "      <td>4019.0</td>\n",
       "      <td>2.5</td>\n",
       "      <td>2.0</td>\n",
       "      <td>1.0</td>\n",
       "      <td>202.0</td>\n",
       "      <td>160.2564</td>\n",
       "    </tr>\n",
       "    <tr>\n",
       "      <th>2</th>\n",
       "      <td>2</td>\n",
       "      <td>4019.0</td>\n",
       "      <td>2.5</td>\n",
       "      <td>2.0</td>\n",
       "      <td>1.0</td>\n",
       "      <td>156.0</td>\n",
       "      <td>160.2564</td>\n",
       "    </tr>\n",
       "    <tr>\n",
       "      <th>4</th>\n",
       "      <td>3</td>\n",
       "      <td>4019.0</td>\n",
       "      <td>2.5</td>\n",
       "      <td>3.0</td>\n",
       "      <td>2.0</td>\n",
       "      <td>134.0</td>\n",
       "      <td>150.0000</td>\n",
       "    </tr>\n",
       "    <tr>\n",
       "      <th>5</th>\n",
       "      <td>3</td>\n",
       "      <td>4019.0</td>\n",
       "      <td>2.5</td>\n",
       "      <td>3.0</td>\n",
       "      <td>2.0</td>\n",
       "      <td>94.0</td>\n",
       "      <td>160.2564</td>\n",
       "    </tr>\n",
       "    <tr>\n",
       "      <th>6</th>\n",
       "      <td>4</td>\n",
       "      <td>4019.0</td>\n",
       "      <td>2.5</td>\n",
       "      <td>3.0</td>\n",
       "      <td>1.0</td>\n",
       "      <td>120.0</td>\n",
       "      <td>160.2564</td>\n",
       "    </tr>\n",
       "  </tbody>\n",
       "</table>\n",
       "</div>"
      ],
      "text/plain": [
       "   Rooms  Propertycount  Distance  Bedroom2  Bathroom  Landsize  BuildingArea\n",
       "1      2         4019.0       2.5       2.0       1.0     202.0      160.2564\n",
       "2      2         4019.0       2.5       2.0       1.0     156.0      160.2564\n",
       "4      3         4019.0       2.5       3.0       2.0     134.0      150.0000\n",
       "5      3         4019.0       2.5       3.0       2.0      94.0      160.2564\n",
       "6      4         4019.0       2.5       3.0       1.0     120.0      160.2564"
      ]
     },
     "execution_count": 105,
     "metadata": {},
     "output_type": "execute_result"
    }
   ],
   "source": [
    "print(df.shape)\n",
    "col=df.drop(['Suburb','Type','Method', 'SellerG', 'Regionname','Car','Price'],axis=1)\n",
    "print(col.shape)\n",
    "col.head()"
   ]
  },
  {
   "cell_type": "code",
   "execution_count": 106,
   "id": "6386a689-5079-40d6-9d4b-801c1a458907",
   "metadata": {},
   "outputs": [
    {
     "name": "stdout",
     "output_type": "stream",
     "text": [
      "(27244, 713)\n"
     ]
    }
   ],
   "source": [
    "dataset_cat= pd.get_dummies(df,drop_first=True)\n",
    "print(dataset_cat.shape)"
   ]
  },
  {
   "cell_type": "code",
   "execution_count": 107,
   "id": "6fb9760e-4a0d-4609-89c5-8801a100e606",
   "metadata": {},
   "outputs": [
    {
     "data": {
      "text/plain": [
       "(27244, 720)"
      ]
     },
     "execution_count": 107,
     "metadata": {},
     "output_type": "execute_result"
    }
   ],
   "source": [
    "df=pd.concat([col,dataset_cat],axis =1)\n",
    "df.shape"
   ]
  },
  {
   "cell_type": "markdown",
   "id": "35e6a43d-d0d0-4b9a-8a8c-e3c556b56f68",
   "metadata": {},
   "source": [
    "## Data Standardization"
   ]
  },
  {
   "cell_type": "code",
   "execution_count": 108,
   "id": "373d9b63-8ac3-44aa-9a80-4aa827a70709",
   "metadata": {},
   "outputs": [
    {
     "name": "stdout",
     "output_type": "stream",
     "text": [
      "(27244, 719)\n",
      "(27244,)\n"
     ]
    }
   ],
   "source": [
    "x=df.drop('Price',axis=1)\n",
    "y=df['Price']\n",
    "print(x.shape)\n",
    "print(y.shape)"
   ]
  },
  {
   "cell_type": "code",
   "execution_count": 109,
   "id": "4b878c8e-3d68-4c04-b3fd-80e350bf4b1e",
   "metadata": {},
   "outputs": [],
   "source": [
    "from sklearn.preprocessing import StandardScaler\n",
    "#define min max scaler\n",
    "scaler=StandardScaler()\n",
    "#Transform data\n",
    "scaled=scaler.fit_transform(x)"
   ]
  },
  {
   "cell_type": "code",
   "execution_count": 110,
   "id": "2a8c9973-cc2d-4eae-9083-274ba78885d3",
   "metadata": {},
   "outputs": [],
   "source": [
    "from sklearn.model_selection import train_test_split\n",
    "X_train,X_test,y_train,y_test = train_test_split(scaled,y,test_size=0.2,random_state=40)"
   ]
  },
  {
   "cell_type": "code",
   "execution_count": 111,
   "id": "d87d4605-8086-4b7f-9c17-5021a61c371f",
   "metadata": {},
   "outputs": [],
   "source": [
    "from sklearn.linear_model import LinearRegression\n",
    "reg = LinearRegression()\n",
    "reg.fit(X_train, y_train)\n",
    "Reg_predict_test=reg.predict(X_test)\n",
    "Reg_predict_train=reg.predict(X_train)"
   ]
  },
  {
   "cell_type": "code",
   "execution_count": 112,
   "id": "8cf864c8-b916-447d-bd8a-009983d99643",
   "metadata": {},
   "outputs": [
    {
     "name": "stdout",
     "output_type": "stream",
     "text": [
      "R score -2.0792252360137636e+27\n",
      "R score 0.6132680197644081\n"
     ]
    }
   ],
   "source": [
    "from sklearn import metrics\n",
    "print(\"R score\",metrics.r2_score(y_test,Reg_predict_test))\n",
    "print(\"R score\",metrics.r2_score(y_train,Reg_predict_train))"
   ]
  },
  {
   "cell_type": "code",
   "execution_count": 113,
   "id": "08d6ed43-6afe-4e73-a50e-48902b0caede",
   "metadata": {},
   "outputs": [],
   "source": [
    "# Simple re"
   ]
  },
  {
   "cell_type": "code",
   "execution_count": 114,
   "id": "9d2d24a9-0c68-4dd9-94e8-bd63f73f855f",
   "metadata": {},
   "outputs": [
    {
     "name": "stdout",
     "output_type": "stream",
     "text": [
      "(27244, 1)\n",
      "(27244,)\n"
     ]
    }
   ],
   "source": [
    "x=df['Rooms'].iloc[:,:1]\n",
    "y=df['Price']\n",
    "print(x.shape)\n",
    "print(y.shape)"
   ]
  },
  {
   "cell_type": "code",
   "execution_count": 115,
   "id": "a00e065f-fd2d-4102-bef0-08f596086d0a",
   "metadata": {},
   "outputs": [],
   "source": [
    "scaled=scaler.fit_transform(x)"
   ]
  },
  {
   "cell_type": "code",
   "execution_count": 116,
   "id": "f14133b7-2305-40c1-b40a-4e3300646937",
   "metadata": {},
   "outputs": [],
   "source": [
    "from sklearn.model_selection import train_test_split\n",
    "X_train,X_test,y_train,y_test = train_test_split(scaled,y,test_size=0.2,random_state=40)"
   ]
  },
  {
   "cell_type": "code",
   "execution_count": 117,
   "id": "f08dd1e2-9ede-4a4f-91bd-590e1f044e49",
   "metadata": {},
   "outputs": [],
   "source": [
    "from sklearn.linear_model import LinearRegression\n",
    "reg = LinearRegression()\n",
    "reg.fit(X_train, y_train)\n",
    "Reg_predict_test=reg.predict(X_test)\n",
    "Reg_predict_train=reg.predict(X_train)"
   ]
  },
  {
   "cell_type": "code",
   "execution_count": 118,
   "id": "4bd88c67-7fb1-4a7d-b33f-90060cf2f07b",
   "metadata": {},
   "outputs": [
    {
     "name": "stdout",
     "output_type": "stream",
     "text": [
      "R score 0.1645898415046051\n",
      "R score 0.17728765102899002\n"
     ]
    }
   ],
   "source": [
    "from sklearn import metrics\n",
    "print(\"R score\",metrics.r2_score(y_test,Reg_predict_test))\n",
    "print(\"R score\",metrics.r2_score(y_train,Reg_predict_train))"
   ]
  },
  {
   "cell_type": "markdown",
   "id": "5594c0bf-46cb-4533-8a0d-e5eadf6ab61c",
   "metadata": {},
   "source": [
    "# Lasso"
   ]
  },
  {
   "cell_type": "code",
   "execution_count": 123,
   "id": "48ee5c0a-c785-4b3d-9659-1f6738871509",
   "metadata": {},
   "outputs": [
    {
     "data": {
      "text/html": [
       "<style>#sk-container-id-1 {color: black;}#sk-container-id-1 pre{padding: 0;}#sk-container-id-1 div.sk-toggleable {background-color: white;}#sk-container-id-1 label.sk-toggleable__label {cursor: pointer;display: block;width: 100%;margin-bottom: 0;padding: 0.3em;box-sizing: border-box;text-align: center;}#sk-container-id-1 label.sk-toggleable__label-arrow:before {content: \"▸\";float: left;margin-right: 0.25em;color: #696969;}#sk-container-id-1 label.sk-toggleable__label-arrow:hover:before {color: black;}#sk-container-id-1 div.sk-estimator:hover label.sk-toggleable__label-arrow:before {color: black;}#sk-container-id-1 div.sk-toggleable__content {max-height: 0;max-width: 0;overflow: hidden;text-align: left;background-color: #f0f8ff;}#sk-container-id-1 div.sk-toggleable__content pre {margin: 0.2em;color: black;border-radius: 0.25em;background-color: #f0f8ff;}#sk-container-id-1 input.sk-toggleable__control:checked~div.sk-toggleable__content {max-height: 200px;max-width: 100%;overflow: auto;}#sk-container-id-1 input.sk-toggleable__control:checked~label.sk-toggleable__label-arrow:before {content: \"▾\";}#sk-container-id-1 div.sk-estimator input.sk-toggleable__control:checked~label.sk-toggleable__label {background-color: #d4ebff;}#sk-container-id-1 div.sk-label input.sk-toggleable__control:checked~label.sk-toggleable__label {background-color: #d4ebff;}#sk-container-id-1 input.sk-hidden--visually {border: 0;clip: rect(1px 1px 1px 1px);clip: rect(1px, 1px, 1px, 1px);height: 1px;margin: -1px;overflow: hidden;padding: 0;position: absolute;width: 1px;}#sk-container-id-1 div.sk-estimator {font-family: monospace;background-color: #f0f8ff;border: 1px dotted black;border-radius: 0.25em;box-sizing: border-box;margin-bottom: 0.5em;}#sk-container-id-1 div.sk-estimator:hover {background-color: #d4ebff;}#sk-container-id-1 div.sk-parallel-item::after {content: \"\";width: 100%;border-bottom: 1px solid gray;flex-grow: 1;}#sk-container-id-1 div.sk-label:hover label.sk-toggleable__label {background-color: #d4ebff;}#sk-container-id-1 div.sk-serial::before {content: \"\";position: absolute;border-left: 1px solid gray;box-sizing: border-box;top: 0;bottom: 0;left: 50%;z-index: 0;}#sk-container-id-1 div.sk-serial {display: flex;flex-direction: column;align-items: center;background-color: white;padding-right: 0.2em;padding-left: 0.2em;position: relative;}#sk-container-id-1 div.sk-item {position: relative;z-index: 1;}#sk-container-id-1 div.sk-parallel {display: flex;align-items: stretch;justify-content: center;background-color: white;position: relative;}#sk-container-id-1 div.sk-item::before, #sk-container-id-1 div.sk-parallel-item::before {content: \"\";position: absolute;border-left: 1px solid gray;box-sizing: border-box;top: 0;bottom: 0;left: 50%;z-index: -1;}#sk-container-id-1 div.sk-parallel-item {display: flex;flex-direction: column;z-index: 1;position: relative;background-color: white;}#sk-container-id-1 div.sk-parallel-item:first-child::after {align-self: flex-end;width: 50%;}#sk-container-id-1 div.sk-parallel-item:last-child::after {align-self: flex-start;width: 50%;}#sk-container-id-1 div.sk-parallel-item:only-child::after {width: 0;}#sk-container-id-1 div.sk-dashed-wrapped {border: 1px dashed gray;margin: 0 0.4em 0.5em 0.4em;box-sizing: border-box;padding-bottom: 0.4em;background-color: white;}#sk-container-id-1 div.sk-label label {font-family: monospace;font-weight: bold;display: inline-block;line-height: 1.2em;}#sk-container-id-1 div.sk-label-container {text-align: center;}#sk-container-id-1 div.sk-container {/* jupyter's `normalize.less` sets `[hidden] { display: none; }` but bootstrap.min.css set `[hidden] { display: none !important; }` so we also need the `!important` here to be able to override the default hidden behavior on the sphinx rendered scikit-learn.org. See: https://github.com/scikit-learn/scikit-learn/issues/21755 */display: inline-block !important;position: relative;}#sk-container-id-1 div.sk-text-repr-fallback {display: none;}</style><div id=\"sk-container-id-1\" class=\"sk-top-container\"><div class=\"sk-text-repr-fallback\"><pre>Lasso()</pre><b>In a Jupyter environment, please rerun this cell to show the HTML representation or trust the notebook. <br />On GitHub, the HTML representation is unable to render, please try loading this page with nbviewer.org.</b></div><div class=\"sk-container\" hidden><div class=\"sk-item\"><div class=\"sk-estimator sk-toggleable\"><input class=\"sk-toggleable__control sk-hidden--visually\" id=\"sk-estimator-id-1\" type=\"checkbox\" checked><label for=\"sk-estimator-id-1\" class=\"sk-toggleable__label sk-toggleable__label-arrow\">Lasso</label><div class=\"sk-toggleable__content\"><pre>Lasso()</pre></div></div></div></div></div>"
      ],
      "text/plain": [
       "Lasso()"
      ]
     },
     "execution_count": 123,
     "metadata": {},
     "output_type": "execute_result"
    }
   ],
   "source": [
    "from sklearn.linear_model import Lasso\n",
    "lasso_reg =Lasso()\n",
    "lasso_reg.fit(X_train,y_train)"
   ]
  },
  {
   "cell_type": "code",
   "execution_count": 124,
   "id": "c7358453-aec9-4510-a09e-90e161c14ae1",
   "metadata": {},
   "outputs": [],
   "source": [
    "Reg_predict_lasso_test=reg.predict(X_test)\n",
    "Reg_predict_lasso_train=reg.predict(X_train)"
   ]
  },
  {
   "cell_type": "code",
   "execution_count": 129,
   "id": "f45d11d4-7489-4f34-b9ca-73a7ab933e75",
   "metadata": {},
   "outputs": [
    {
     "data": {
      "text/plain": [
       "0.16458994245099878"
      ]
     },
     "execution_count": 129,
     "metadata": {},
     "output_type": "execute_result"
    }
   ],
   "source": [
    "lasso_reg.score(X_test,y_test)"
   ]
  },
  {
   "cell_type": "code",
   "execution_count": 130,
   "id": "ec895864-e0d8-4c32-867f-bdd5b8bff51f",
   "metadata": {},
   "outputs": [
    {
     "data": {
      "text/plain": [
       "0.1772876510234569"
      ]
     },
     "execution_count": 130,
     "metadata": {},
     "output_type": "execute_result"
    }
   ],
   "source": [
    "lasso_reg.score(X_train,y_train)"
   ]
  },
  {
   "cell_type": "markdown",
   "id": "05fc5a12-090d-4c4a-adab-98e9ff45fa6f",
   "metadata": {},
   "source": [
    "## Ridge"
   ]
  },
  {
   "cell_type": "code",
   "execution_count": 135,
   "id": "2c5bfcb8-c6af-46fe-8a79-70048f5d06ce",
   "metadata": {},
   "outputs": [
    {
     "data": {
      "text/html": [
       "<style>#sk-container-id-2 {color: black;}#sk-container-id-2 pre{padding: 0;}#sk-container-id-2 div.sk-toggleable {background-color: white;}#sk-container-id-2 label.sk-toggleable__label {cursor: pointer;display: block;width: 100%;margin-bottom: 0;padding: 0.3em;box-sizing: border-box;text-align: center;}#sk-container-id-2 label.sk-toggleable__label-arrow:before {content: \"▸\";float: left;margin-right: 0.25em;color: #696969;}#sk-container-id-2 label.sk-toggleable__label-arrow:hover:before {color: black;}#sk-container-id-2 div.sk-estimator:hover label.sk-toggleable__label-arrow:before {color: black;}#sk-container-id-2 div.sk-toggleable__content {max-height: 0;max-width: 0;overflow: hidden;text-align: left;background-color: #f0f8ff;}#sk-container-id-2 div.sk-toggleable__content pre {margin: 0.2em;color: black;border-radius: 0.25em;background-color: #f0f8ff;}#sk-container-id-2 input.sk-toggleable__control:checked~div.sk-toggleable__content {max-height: 200px;max-width: 100%;overflow: auto;}#sk-container-id-2 input.sk-toggleable__control:checked~label.sk-toggleable__label-arrow:before {content: \"▾\";}#sk-container-id-2 div.sk-estimator input.sk-toggleable__control:checked~label.sk-toggleable__label {background-color: #d4ebff;}#sk-container-id-2 div.sk-label input.sk-toggleable__control:checked~label.sk-toggleable__label {background-color: #d4ebff;}#sk-container-id-2 input.sk-hidden--visually {border: 0;clip: rect(1px 1px 1px 1px);clip: rect(1px, 1px, 1px, 1px);height: 1px;margin: -1px;overflow: hidden;padding: 0;position: absolute;width: 1px;}#sk-container-id-2 div.sk-estimator {font-family: monospace;background-color: #f0f8ff;border: 1px dotted black;border-radius: 0.25em;box-sizing: border-box;margin-bottom: 0.5em;}#sk-container-id-2 div.sk-estimator:hover {background-color: #d4ebff;}#sk-container-id-2 div.sk-parallel-item::after {content: \"\";width: 100%;border-bottom: 1px solid gray;flex-grow: 1;}#sk-container-id-2 div.sk-label:hover label.sk-toggleable__label {background-color: #d4ebff;}#sk-container-id-2 div.sk-serial::before {content: \"\";position: absolute;border-left: 1px solid gray;box-sizing: border-box;top: 0;bottom: 0;left: 50%;z-index: 0;}#sk-container-id-2 div.sk-serial {display: flex;flex-direction: column;align-items: center;background-color: white;padding-right: 0.2em;padding-left: 0.2em;position: relative;}#sk-container-id-2 div.sk-item {position: relative;z-index: 1;}#sk-container-id-2 div.sk-parallel {display: flex;align-items: stretch;justify-content: center;background-color: white;position: relative;}#sk-container-id-2 div.sk-item::before, #sk-container-id-2 div.sk-parallel-item::before {content: \"\";position: absolute;border-left: 1px solid gray;box-sizing: border-box;top: 0;bottom: 0;left: 50%;z-index: -1;}#sk-container-id-2 div.sk-parallel-item {display: flex;flex-direction: column;z-index: 1;position: relative;background-color: white;}#sk-container-id-2 div.sk-parallel-item:first-child::after {align-self: flex-end;width: 50%;}#sk-container-id-2 div.sk-parallel-item:last-child::after {align-self: flex-start;width: 50%;}#sk-container-id-2 div.sk-parallel-item:only-child::after {width: 0;}#sk-container-id-2 div.sk-dashed-wrapped {border: 1px dashed gray;margin: 0 0.4em 0.5em 0.4em;box-sizing: border-box;padding-bottom: 0.4em;background-color: white;}#sk-container-id-2 div.sk-label label {font-family: monospace;font-weight: bold;display: inline-block;line-height: 1.2em;}#sk-container-id-2 div.sk-label-container {text-align: center;}#sk-container-id-2 div.sk-container {/* jupyter's `normalize.less` sets `[hidden] { display: none; }` but bootstrap.min.css set `[hidden] { display: none !important; }` so we also need the `!important` here to be able to override the default hidden behavior on the sphinx rendered scikit-learn.org. See: https://github.com/scikit-learn/scikit-learn/issues/21755 */display: inline-block !important;position: relative;}#sk-container-id-2 div.sk-text-repr-fallback {display: none;}</style><div id=\"sk-container-id-2\" class=\"sk-top-container\"><div class=\"sk-text-repr-fallback\"><pre>Ridge()</pre><b>In a Jupyter environment, please rerun this cell to show the HTML representation or trust the notebook. <br />On GitHub, the HTML representation is unable to render, please try loading this page with nbviewer.org.</b></div><div class=\"sk-container\" hidden><div class=\"sk-item\"><div class=\"sk-estimator sk-toggleable\"><input class=\"sk-toggleable__control sk-hidden--visually\" id=\"sk-estimator-id-2\" type=\"checkbox\" checked><label for=\"sk-estimator-id-2\" class=\"sk-toggleable__label sk-toggleable__label-arrow\">Ridge</label><div class=\"sk-toggleable__content\"><pre>Ridge()</pre></div></div></div></div></div>"
      ],
      "text/plain": [
       "Ridge()"
      ]
     },
     "execution_count": 135,
     "metadata": {},
     "output_type": "execute_result"
    }
   ],
   "source": [
    "from sklearn.linear_model import Ridge\n",
    "ridge_reg=Ridge()\n",
    "ridge_reg.fit(X_train,y_train)"
   ]
  },
  {
   "cell_type": "code",
   "execution_count": 136,
   "id": "2fe57ff0-6013-4a3e-90ef-40d3cb633138",
   "metadata": {},
   "outputs": [
    {
     "data": {
      "text/plain": [
       "0.1645906694297108"
      ]
     },
     "execution_count": 136,
     "metadata": {},
     "output_type": "execute_result"
    }
   ],
   "source": [
    "ridge_reg.score(X_test,y_test)"
   ]
  },
  {
   "cell_type": "code",
   "execution_count": 138,
   "id": "ef2d9e52-b3ae-4fff-9c7e-376d54022bed",
   "metadata": {},
   "outputs": [
    {
     "data": {
      "text/plain": [
       "0.17728765065649243"
      ]
     },
     "execution_count": 138,
     "metadata": {},
     "output_type": "execute_result"
    }
   ],
   "source": [
    "ridge_reg.score(X_train,y_train)"
   ]
  },
  {
   "cell_type": "markdown",
   "id": "458e42f9-21f1-47b2-b838-fd0d13fb2a59",
   "metadata": {},
   "source": [
    "# Elastic Net"
   ]
  },
  {
   "cell_type": "code",
   "execution_count": 139,
   "id": "f8169128-ddba-4fb5-9c25-f4d70ae11ab4",
   "metadata": {},
   "outputs": [
    {
     "data": {
      "text/html": [
       "<style>#sk-container-id-3 {color: black;}#sk-container-id-3 pre{padding: 0;}#sk-container-id-3 div.sk-toggleable {background-color: white;}#sk-container-id-3 label.sk-toggleable__label {cursor: pointer;display: block;width: 100%;margin-bottom: 0;padding: 0.3em;box-sizing: border-box;text-align: center;}#sk-container-id-3 label.sk-toggleable__label-arrow:before {content: \"▸\";float: left;margin-right: 0.25em;color: #696969;}#sk-container-id-3 label.sk-toggleable__label-arrow:hover:before {color: black;}#sk-container-id-3 div.sk-estimator:hover label.sk-toggleable__label-arrow:before {color: black;}#sk-container-id-3 div.sk-toggleable__content {max-height: 0;max-width: 0;overflow: hidden;text-align: left;background-color: #f0f8ff;}#sk-container-id-3 div.sk-toggleable__content pre {margin: 0.2em;color: black;border-radius: 0.25em;background-color: #f0f8ff;}#sk-container-id-3 input.sk-toggleable__control:checked~div.sk-toggleable__content {max-height: 200px;max-width: 100%;overflow: auto;}#sk-container-id-3 input.sk-toggleable__control:checked~label.sk-toggleable__label-arrow:before {content: \"▾\";}#sk-container-id-3 div.sk-estimator input.sk-toggleable__control:checked~label.sk-toggleable__label {background-color: #d4ebff;}#sk-container-id-3 div.sk-label input.sk-toggleable__control:checked~label.sk-toggleable__label {background-color: #d4ebff;}#sk-container-id-3 input.sk-hidden--visually {border: 0;clip: rect(1px 1px 1px 1px);clip: rect(1px, 1px, 1px, 1px);height: 1px;margin: -1px;overflow: hidden;padding: 0;position: absolute;width: 1px;}#sk-container-id-3 div.sk-estimator {font-family: monospace;background-color: #f0f8ff;border: 1px dotted black;border-radius: 0.25em;box-sizing: border-box;margin-bottom: 0.5em;}#sk-container-id-3 div.sk-estimator:hover {background-color: #d4ebff;}#sk-container-id-3 div.sk-parallel-item::after {content: \"\";width: 100%;border-bottom: 1px solid gray;flex-grow: 1;}#sk-container-id-3 div.sk-label:hover label.sk-toggleable__label {background-color: #d4ebff;}#sk-container-id-3 div.sk-serial::before {content: \"\";position: absolute;border-left: 1px solid gray;box-sizing: border-box;top: 0;bottom: 0;left: 50%;z-index: 0;}#sk-container-id-3 div.sk-serial {display: flex;flex-direction: column;align-items: center;background-color: white;padding-right: 0.2em;padding-left: 0.2em;position: relative;}#sk-container-id-3 div.sk-item {position: relative;z-index: 1;}#sk-container-id-3 div.sk-parallel {display: flex;align-items: stretch;justify-content: center;background-color: white;position: relative;}#sk-container-id-3 div.sk-item::before, #sk-container-id-3 div.sk-parallel-item::before {content: \"\";position: absolute;border-left: 1px solid gray;box-sizing: border-box;top: 0;bottom: 0;left: 50%;z-index: -1;}#sk-container-id-3 div.sk-parallel-item {display: flex;flex-direction: column;z-index: 1;position: relative;background-color: white;}#sk-container-id-3 div.sk-parallel-item:first-child::after {align-self: flex-end;width: 50%;}#sk-container-id-3 div.sk-parallel-item:last-child::after {align-self: flex-start;width: 50%;}#sk-container-id-3 div.sk-parallel-item:only-child::after {width: 0;}#sk-container-id-3 div.sk-dashed-wrapped {border: 1px dashed gray;margin: 0 0.4em 0.5em 0.4em;box-sizing: border-box;padding-bottom: 0.4em;background-color: white;}#sk-container-id-3 div.sk-label label {font-family: monospace;font-weight: bold;display: inline-block;line-height: 1.2em;}#sk-container-id-3 div.sk-label-container {text-align: center;}#sk-container-id-3 div.sk-container {/* jupyter's `normalize.less` sets `[hidden] { display: none; }` but bootstrap.min.css set `[hidden] { display: none !important; }` so we also need the `!important` here to be able to override the default hidden behavior on the sphinx rendered scikit-learn.org. See: https://github.com/scikit-learn/scikit-learn/issues/21755 */display: inline-block !important;position: relative;}#sk-container-id-3 div.sk-text-repr-fallback {display: none;}</style><div id=\"sk-container-id-3\" class=\"sk-top-container\"><div class=\"sk-text-repr-fallback\"><pre>ElasticNet()</pre><b>In a Jupyter environment, please rerun this cell to show the HTML representation or trust the notebook. <br />On GitHub, the HTML representation is unable to render, please try loading this page with nbviewer.org.</b></div><div class=\"sk-container\" hidden><div class=\"sk-item\"><div class=\"sk-estimator sk-toggleable\"><input class=\"sk-toggleable__control sk-hidden--visually\" id=\"sk-estimator-id-3\" type=\"checkbox\" checked><label for=\"sk-estimator-id-3\" class=\"sk-toggleable__label sk-toggleable__label-arrow\">ElasticNet</label><div class=\"sk-toggleable__content\"><pre>ElasticNet()</pre></div></div></div></div></div>"
      ],
      "text/plain": [
       "ElasticNet()"
      ]
     },
     "execution_count": 139,
     "metadata": {},
     "output_type": "execute_result"
    }
   ],
   "source": [
    "from sklearn.linear_model import ElasticNet\n",
    "En_reg=ElasticNet()\n",
    "En_reg.fit(X_train,y_train)"
   ]
  },
  {
   "cell_type": "code",
   "execution_count": 140,
   "id": "81ae65e1-d397-4071-b411-29158c2f63c7",
   "metadata": {},
   "outputs": [
    {
     "data": {
      "text/plain": [
       "0.15032846872642525"
      ]
     },
     "execution_count": 140,
     "metadata": {},
     "output_type": "execute_result"
    }
   ],
   "source": [
    "En_reg.score(X_test,y_test)"
   ]
  },
  {
   "cell_type": "code",
   "execution_count": 141,
   "id": "02af2f09-2d48-4120-bd93-bb1cee2aa3c6",
   "metadata": {},
   "outputs": [
    {
     "data": {
      "text/plain": [
       "0.15761302961325618"
      ]
     },
     "execution_count": 141,
     "metadata": {},
     "output_type": "execute_result"
    }
   ],
   "source": [
    "En_reg.score(X_train,y_train)"
   ]
  },
  {
   "cell_type": "code",
   "execution_count": null,
   "id": "6e279098-c85b-4c75-97ca-607e00307732",
   "metadata": {},
   "outputs": [],
   "source": []
  }
 ],
 "metadata": {
  "kernelspec": {
   "display_name": "Python 3 (ipykernel)",
   "language": "python",
   "name": "python3"
  },
  "language_info": {
   "codemirror_mode": {
    "name": "ipython",
    "version": 3
   },
   "file_extension": ".py",
   "mimetype": "text/x-python",
   "name": "python",
   "nbconvert_exporter": "python",
   "pygments_lexer": "ipython3",
   "version": "3.11.5"
  }
 },
 "nbformat": 4,
 "nbformat_minor": 5
}
